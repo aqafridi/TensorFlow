{
  "nbformat": 4,
  "nbformat_minor": 0,
  "metadata": {
    "colab": {
      "name": "Tensorflow Introduction.ipynb",
      "provenance": [],
      "authorship_tag": "ABX9TyMlbMisXAe5FQY8Rb1frwjX",
      "include_colab_link": true
    },
    "kernelspec": {
      "name": "python3",
      "display_name": "Python 3"
    },
    "language_info": {
      "name": "python"
    }
  },
  "cells": [
    {
      "cell_type": "markdown",
      "metadata": {
        "id": "view-in-github",
        "colab_type": "text"
      },
      "source": [
        "<a href=\"https://colab.research.google.com/github/aqafridi/TensorFlow/blob/main/Tensorflow_Introduction.ipynb\" target=\"_parent\"><img src=\"https://colab.research.google.com/assets/colab-badge.svg\" alt=\"Open In Colab\"/></a>"
      ]
    },
    {
      "cell_type": "markdown",
      "metadata": {
        "id": "BNAV_RPMV0fg"
      },
      "source": [
        "#Single Neuron"
      ]
    },
    {
      "cell_type": "code",
      "metadata": {
        "colab": {
          "base_uri": "https://localhost:8080/"
        },
        "id": "nlYd4ug5SWSK",
        "outputId": "f4c6ad02-17b4-478f-eb57-6afe0ffa9676"
      },
      "source": [
        "from tensorflow import keras\n",
        "import numpy as np\n",
        "model=keras.Sequential([keras.layers.Dense(units=1,input_shape=[1])])\n",
        "model.compile(optimizer='adam',loss='mean_squared_error')\n",
        "xs = np.array([1.0, 2.0, 3.0, 4.0, 5.0, 6.0], dtype=float)\n",
        "ys = np.array([2.0, 4.0, 6.0, 8.0, 10.0, 12.0], dtype=float)\n",
        "model.fit(xs,ys,epochs=5000,verbose=False)"
      ],
      "execution_count": 3,
      "outputs": [
        {
          "output_type": "execute_result",
          "data": {
            "text/plain": [
              "<tensorflow.python.keras.callbacks.History at 0x7f69e653b8d0>"
            ]
          },
          "metadata": {
            "tags": []
          },
          "execution_count": 3
        }
      ]
    },
    {
      "cell_type": "code",
      "metadata": {
        "colab": {
          "base_uri": "https://localhost:8080/"
        },
        "id": "VJf1pdDSS5Yo",
        "outputId": "f4e9cb0a-474f-420b-8010-d0a5025bdc59"
      },
      "source": [
        "model.predict([10])"
      ],
      "execution_count": 4,
      "outputs": [
        {
          "output_type": "execute_result",
          "data": {
            "text/plain": [
              "array([[19.999994]], dtype=float32)"
            ]
          },
          "metadata": {
            "tags": []
          },
          "execution_count": 4
        }
      ]
    },
    {
      "cell_type": "markdown",
      "metadata": {
        "id": "XOSh-yDKWNLF"
      },
      "source": [
        "#multiple neuron"
      ]
    },
    {
      "cell_type": "code",
      "metadata": {
        "id": "AtC40_3TTH5U",
        "colab": {
          "base_uri": "https://localhost:8080/"
        },
        "outputId": "8d1f8bb3-3992-4229-9d31-663dd4077604"
      },
      "source": [
        "from tensorflow import keras\n",
        "import numpy as np\n",
        "model=keras.Sequential([keras.layers.Dense(units=1,input_shape=[1]),\n",
        "                        keras.layers.Dense(units=10),keras.layers.Dense(units=1)])\n",
        "model.compile(optimizer='adam',loss='mean_squared_error')\n",
        "xs = np.array([1.0, 2.0, 3.0, 4.0, 5.0, 6.0], dtype=float)\n",
        "ys = np.array([2.0, 4.0, 6.0, 8.0, 10.0, 12.0], dtype=float)\n",
        "model.fit(xs,ys,epochs=5000,verbose=False)"
      ],
      "execution_count": 5,
      "outputs": [
        {
          "output_type": "execute_result",
          "data": {
            "text/plain": [
              "<tensorflow.python.keras.callbacks.History at 0x7f69e542f350>"
            ]
          },
          "metadata": {
            "tags": []
          },
          "execution_count": 5
        }
      ]
    },
    {
      "cell_type": "code",
      "metadata": {
        "colab": {
          "base_uri": "https://localhost:8080/"
        },
        "id": "yLzxeqZSWlUa",
        "outputId": "fc7612cb-e14c-4592-c7c9-e348bf569df6"
      },
      "source": [
        "model.predict([10])"
      ],
      "execution_count": 6,
      "outputs": [
        {
          "output_type": "execute_result",
          "data": {
            "text/plain": [
              "array([[19.998728]], dtype=float32)"
            ]
          },
          "metadata": {
            "tags": []
          },
          "execution_count": 6
        }
      ]
    },
    {
      "cell_type": "markdown",
      "metadata": {
        "id": "MeuyQFzZg_wZ"
      },
      "source": [
        "#Conv Vision"
      ]
    },
    {
      "cell_type": "code",
      "metadata": {
        "colab": {
          "base_uri": "https://localhost:8080/"
        },
        "id": "chYmbbMhWnao",
        "outputId": "e5755550-93df-4eba-ae2a-c7ee7fe90aef"
      },
      "source": [
        "from tensorflow import keras\n",
        "(x_train,y_train),(x_test,y_test)=keras.datasets.fashion_mnist.load_data()\n",
        "model=keras.Sequential([keras.layers.Flatten(input_shape=(28,28)),\n",
        "                        keras.layers.Dense(units=128,activation='relu'),\n",
        "                        keras.layers.Dense(units=10,activation='softmax')\n",
        "                        ])\n",
        "model.compile(optimizer='adam',loss='sparse_categorical_crossentropy')\n",
        "model.fit(x_train,y_train,epochs=10, verbose=False)"
      ],
      "execution_count": 30,
      "outputs": [
        {
          "output_type": "execute_result",
          "data": {
            "text/plain": [
              "<tensorflow.python.keras.callbacks.History at 0x7f69deb15c90>"
            ]
          },
          "metadata": {
            "tags": []
          },
          "execution_count": 30
        }
      ]
    },
    {
      "cell_type": "code",
      "metadata": {
        "colab": {
          "base_uri": "https://localhost:8080/"
        },
        "id": "jsh7siNcZLbb",
        "outputId": "61d8a286-ef16-4d22-c1c0-307d28f64921"
      },
      "source": [
        "img=x_test[1004]\n",
        "img = img.reshape(1, 784)\n",
        "model.predict(img)"
      ],
      "execution_count": 38,
      "outputs": [
        {
          "output_type": "execute_result",
          "data": {
            "text/plain": [
              "array([[0.10656185, 0.10638779, 0.10708158, 0.10709922, 0.10708805,\n",
              "        0.03853885, 0.10726833, 0.10674466, 0.10734092, 0.10588875]],\n",
              "      dtype=float32)"
            ]
          },
          "metadata": {
            "tags": []
          },
          "execution_count": 38
        }
      ]
    },
    {
      "cell_type": "markdown",
      "metadata": {
        "id": "DogYQHiUjxWL"
      },
      "source": [
        "#Callbacks"
      ]
    },
    {
      "cell_type": "code",
      "metadata": {
        "colab": {
          "base_uri": "https://localhost:8080/"
        },
        "id": "vo07Fm_VbmsR",
        "outputId": "1baf2e1f-d7f1-40d4-a6c6-eed6246334a7"
      },
      "source": [
        "import tensorflow as tf\n",
        "class myCallback(tf.keras.callbacks.Callback):\n",
        "  def on_epoch_end(self, epoch, logs={}):\n",
        "    if(logs.get('loss')<0.4):\n",
        "      print(\"\\nReached 60% accuracy so cancelling training!\")\n",
        "      self.model.stop_training = True\n",
        "\n",
        "callbacks = myCallback()\n",
        "(x_train,y_train),(x_test,y_test)=keras.datasets.fashion_mnist.load_data()\n",
        "model=keras.Sequential([keras.layers.Flatten(input_shape=(28,28)),\n",
        "                        keras.layers.Dense(units=128,activation='relu'),\n",
        "                        keras.layers.Dense(units=10,activation='softmax')\n",
        "                        ])\n",
        "model.compile(optimizer='sgd',loss='sparse_categorical_crossentropy')\n",
        "model.fit(x_train,y_train,epochs=10, callbacks=[callbacks],verbose=False)"
      ],
      "execution_count": 39,
      "outputs": [
        {
          "output_type": "execute_result",
          "data": {
            "text/plain": [
              "<tensorflow.python.keras.callbacks.History at 0x7f69deb85c90>"
            ]
          },
          "metadata": {
            "tags": []
          },
          "execution_count": 39
        }
      ]
    },
    {
      "cell_type": "code",
      "metadata": {
        "id": "2wsXLztNm3vv"
      },
      "source": [
        ""
      ],
      "execution_count": null,
      "outputs": []
    }
  ]
}