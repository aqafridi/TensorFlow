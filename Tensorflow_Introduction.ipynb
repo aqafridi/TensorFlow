{
  "nbformat": 4,
  "nbformat_minor": 0,
  "metadata": {
    "colab": {
      "name": "Tensorflow Introduction.ipynb",
      "provenance": [],
      "authorship_tag": "ABX9TyOFWR3CRkhD8uJHeXOYP0uh",
      "include_colab_link": true
    },
    "kernelspec": {
      "name": "python3",
      "display_name": "Python 3"
    },
    "language_info": {
      "name": "python"
    },
    "accelerator": "GPU"
  },
  "cells": [
    {
      "cell_type": "markdown",
      "metadata": {
        "id": "view-in-github",
        "colab_type": "text"
      },
      "source": [
        "<a href=\"https://colab.research.google.com/github/aqafridi/TensorFlow/blob/main/Tensorflow_Introduction.ipynb\" target=\"_parent\"><img src=\"https://colab.research.google.com/assets/colab-badge.svg\" alt=\"Open In Colab\"/></a>"
      ]
    },
    {
      "cell_type": "markdown",
      "metadata": {
        "id": "BNAV_RPMV0fg"
      },
      "source": [
        "#Single Neuron"
      ]
    },
    {
      "cell_type": "code",
      "metadata": {
        "colab": {
          "base_uri": "https://localhost:8080/"
        },
        "id": "nlYd4ug5SWSK",
        "outputId": "9be8d950-8f37-479f-b236-902fef0c70d3"
      },
      "source": [
        "from tensorflow import keras\n",
        "import numpy as np\n",
        "model=keras.Sequential([keras.layers.Dense(units=1,input_shape=[1])])\n",
        "model.compile(optimizer='adam',loss='mean_squared_error')\n",
        "xs = np.array([1.0, 2.0, 3.0, 4.0, 5.0, 6.0], dtype=float)\n",
        "ys = np.array([2.0, 4.0, 6.0, 8.0, 10.0, 12.0], dtype=float)\n",
        "model.fit(xs,ys,epochs=5000,verbose=False)\n",
        "test_loss = model.evaluate(xs, ys)"
      ],
      "execution_count": 22,
      "outputs": [
        {
          "output_type": "stream",
          "text": [
            "WARNING:tensorflow:5 out of the last 317 calls to <function Model.make_test_function.<locals>.test_function at 0x7fa09dcb03b0> triggered tf.function retracing. Tracing is expensive and the excessive number of tracings could be due to (1) creating @tf.function repeatedly in a loop, (2) passing tensors with different shapes, (3) passing Python objects instead of tensors. For (1), please define your @tf.function outside of the loop. For (2), @tf.function has experimental_relax_shapes=True option that relaxes argument shapes that can avoid unnecessary retracing. For (3), please refer to https://www.tensorflow.org/guide/function#controlling_retracing and https://www.tensorflow.org/api_docs/python/tf/function for  more details.\n",
            "1/1 [==============================] - 0s 58ms/step - loss: 1.0107\n"
          ],
          "name": "stdout"
        }
      ]
    },
    {
      "cell_type": "code",
      "metadata": {
        "colab": {
          "base_uri": "https://localhost:8080/"
        },
        "id": "VJf1pdDSS5Yo",
        "outputId": "f4e9cb0a-474f-420b-8010-d0a5025bdc59"
      },
      "source": [
        "model.predict([10])"
      ],
      "execution_count": 4,
      "outputs": [
        {
          "output_type": "execute_result",
          "data": {
            "text/plain": [
              "array([[19.999994]], dtype=float32)"
            ]
          },
          "metadata": {
            "tags": []
          },
          "execution_count": 4
        }
      ]
    },
    {
      "cell_type": "markdown",
      "metadata": {
        "id": "XOSh-yDKWNLF"
      },
      "source": [
        "#multiple neuron"
      ]
    },
    {
      "cell_type": "code",
      "metadata": {
        "id": "AtC40_3TTH5U",
        "colab": {
          "base_uri": "https://localhost:8080/"
        },
        "outputId": "a9129664-510f-4b81-fd27-db873138a931"
      },
      "source": [
        "from tensorflow import keras\n",
        "import numpy as np\n",
        "model=keras.Sequential([keras.layers.Dense(units=1,input_shape=[1]),\n",
        "                        keras.layers.Dense(units=10),keras.layers.Dense(units=1)])\n",
        "model.compile(optimizer='adam',loss='mean_squared_error')\n",
        "xs = np.array([1.0, 2.0, 3.0, 4.0, 5.0, 6.0], dtype=float)\n",
        "ys = np.array([2.0, 4.0, 6.0, 8.0, 10.0, 12.0], dtype=float)\n",
        "model.fit(xs,ys,epochs=5000,verbose=False)\n",
        "test_loss = model.evaluate(xs, ys)"
      ],
      "execution_count": 21,
      "outputs": [
        {
          "output_type": "stream",
          "text": [
            "1/1 [==============================] - 0s 63ms/step - loss: 1.5916e-12\n"
          ],
          "name": "stdout"
        }
      ]
    },
    {
      "cell_type": "code",
      "metadata": {
        "colab": {
          "base_uri": "https://localhost:8080/"
        },
        "id": "yLzxeqZSWlUa",
        "outputId": "fc7612cb-e14c-4592-c7c9-e348bf569df6"
      },
      "source": [
        "model.predict([10])"
      ],
      "execution_count": 6,
      "outputs": [
        {
          "output_type": "execute_result",
          "data": {
            "text/plain": [
              "array([[19.998728]], dtype=float32)"
            ]
          },
          "metadata": {
            "tags": []
          },
          "execution_count": 6
        }
      ]
    },
    {
      "cell_type": "markdown",
      "metadata": {
        "id": "MeuyQFzZg_wZ"
      },
      "source": [
        "#Computer Vision"
      ]
    },
    {
      "cell_type": "code",
      "metadata": {
        "colab": {
          "base_uri": "https://localhost:8080/"
        },
        "id": "chYmbbMhWnao",
        "outputId": "c6a5749e-7d6a-4d88-a252-dcf399aa3310"
      },
      "source": [
        "from tensorflow import keras\n",
        "(x_train,y_train),(x_test,y_test)=keras.datasets.fashion_mnist.load_data()\n",
        "model=keras.Sequential([keras.layers.Flatten(input_shape=(28,28)),\n",
        "                        keras.layers.Dense(units=128,activation='relu'),\n",
        "                        keras.layers.Dense(units=10,activation='softmax')\n",
        "                        ])\n",
        "model.compile(optimizer='adam',loss='sparse_categorical_crossentropy',metrics=['accuracy'])\n",
        "model.fit(x_train,y_train,epochs=10, verbose=False)\n",
        "test_loss = model.evaluate(x_test, y_test)"
      ],
      "execution_count": 16,
      "outputs": [
        {
          "output_type": "stream",
          "text": [
            "313/313 [==============================] - 1s 2ms/step - loss: 0.5226 - accuracy: 0.8282\n"
          ],
          "name": "stdout"
        }
      ]
    },
    {
      "cell_type": "code",
      "metadata": {
        "colab": {
          "base_uri": "https://localhost:8080/"
        },
        "id": "jsh7siNcZLbb",
        "outputId": "61d8a286-ef16-4d22-c1c0-307d28f64921"
      },
      "source": [
        "img=x_test[1004]\n",
        "img = img.reshape(1, 784)\n",
        "model.predict(img)"
      ],
      "execution_count": 38,
      "outputs": [
        {
          "output_type": "execute_result",
          "data": {
            "text/plain": [
              "array([[0.10656185, 0.10638779, 0.10708158, 0.10709922, 0.10708805,\n",
              "        0.03853885, 0.10726833, 0.10674466, 0.10734092, 0.10588875]],\n",
              "      dtype=float32)"
            ]
          },
          "metadata": {
            "tags": []
          },
          "execution_count": 38
        }
      ]
    },
    {
      "cell_type": "markdown",
      "metadata": {
        "id": "DogYQHiUjxWL"
      },
      "source": [
        "#Callbacks"
      ]
    },
    {
      "cell_type": "code",
      "metadata": {
        "colab": {
          "base_uri": "https://localhost:8080/"
        },
        "id": "vo07Fm_VbmsR",
        "outputId": "f6799405-5579-4626-bc72-703cda119c2d"
      },
      "source": [
        "import tensorflow as tf\n",
        "from tensorflow import keras\n",
        "class myCallback(tf.keras.callbacks.Callback):\n",
        "  def on_epoch_end(self, epoch, logs={}):\n",
        "    if(logs.get('loss')<0.4):\n",
        "      print(\"\\nReached 60% accuracy so cancelling training!\")\n",
        "      self.model.stop_training = True\n",
        "\n",
        "callbacks = myCallback()\n",
        "(x_train,y_train),(x_test,y_test)=keras.datasets.fashion_mnist.load_data()\n",
        "model=keras.Sequential([keras.layers.Flatten(input_shape=(28,28)),\n",
        "                        keras.layers.Dense(units=512,activation='relu'),\n",
        "                        keras.layers.Dense(units=10,activation='softmax')\n",
        "                        ])\n",
        "model.compile(optimizer='adam',loss='sparse_categorical_crossentropy',metrics=['accuracy'])\n",
        "model.fit(x_train,y_train,epochs=10, callbacks=[callbacks],verbose=False)\n",
        "test_loss = model.evaluate(x_test, y_test)"
      ],
      "execution_count": 17,
      "outputs": [
        {
          "output_type": "stream",
          "text": [
            "313/313 [==============================] - 1s 2ms/step - loss: 0.5136 - accuracy: 0.8370\n"
          ],
          "name": "stdout"
        }
      ]
    },
    {
      "cell_type": "markdown",
      "metadata": {
        "id": "-9VYLPq5tiMo"
      },
      "source": [
        "#CNN"
      ]
    },
    {
      "cell_type": "code",
      "metadata": {
        "colab": {
          "base_uri": "https://localhost:8080/"
        },
        "id": "ce4pIg2-tl2c",
        "outputId": "f14f147d-0247-44ca-a871-3a241d4d0805"
      },
      "source": [
        "from tensorflow import keras\n",
        "(x_train,y_train),(x_test,y_test)=keras.datasets.cifar10.load_data()\n",
        "model=keras.Sequential([keras.layers.Conv2D(filters=64,kernel_size=(3,3),input_shape=(32,32,3),activation='relu'),\n",
        "                        keras.layers.MaxPool2D(pool_size=(2,2)),\n",
        "                        keras.layers.Conv2D(64,(3,3),activation='relu'),\n",
        "                        keras.layers.MaxPool2D(pool_size=(2,2)),\n",
        "                        keras.layers.Flatten(),\n",
        "                        keras.layers.Dense(units=512,activation='relu'),\n",
        "                        keras.layers.Dense(units=10,activation='softmax')\n",
        "                        ])\n",
        "model.compile(optimizer='adam',loss='sparse_categorical_crossentropy',metrics=['accuracy'])\n",
        "model.fit(x_train,y_train,epochs=3,verbose=False)\n",
        "test_loss = model.evaluate(x_test, y_test)"
      ],
      "execution_count": 18,
      "outputs": [
        {
          "output_type": "stream",
          "text": [
            "313/313 [==============================] - 1s 2ms/step - loss: 1.4592 - accuracy: 0.4749\n"
          ],
          "name": "stdout"
        }
      ]
    },
    {
      "cell_type": "code",
      "metadata": {
        "id": "uOZSEzJOxkcB",
        "outputId": "55c360ac-0b2b-484f-c6c0-b066b9b2667c",
        "colab": {
          "base_uri": "https://localhost:8080/"
        }
      },
      "source": [
        "import tensorflow as tf\n",
        "mnist = tf.keras.datasets.fashion_mnist\n",
        "(training_images, training_labels), (test_images, test_labels) = mnist.load_data()\n",
        "training_images=training_images.reshape(60000, 28, 28, 1)\n",
        "training_images=training_images / 255.0\n",
        "test_images = test_images.reshape(10000, 28, 28, 1)\n",
        "test_images=test_images/255.0\n",
        "model = tf.keras.models.Sequential([\n",
        "  tf.keras.layers.Conv2D(64, (3,3), activation='relu', input_shape=(28, 28, 1)),\n",
        "  tf.keras.layers.MaxPooling2D(2, 2),\n",
        "  tf.keras.layers.Conv2D(64, (3,3), activation='relu'),\n",
        "  tf.keras.layers.MaxPooling2D(2,2),\n",
        "  tf.keras.layers.Flatten(),\n",
        "  tf.keras.layers.Dense(128, activation='relu'),\n",
        "  tf.keras.layers.Dense(10, activation='softmax')\n",
        "])\n",
        "model.compile(optimizer='adam', loss='sparse_categorical_crossentropy', metrics=['accuracy'])\n",
        "# model.summary()\n",
        "model.fit(training_images, training_labels, epochs=5,verbose=False)\n",
        "test_loss = model.evaluate(test_images, test_labels)"
      ],
      "execution_count": 11,
      "outputs": [
        {
          "output_type": "stream",
          "text": [
            "313/313 [==============================] - 1s 2ms/step - loss: 0.2708 - accuracy: 0.9059\n"
          ],
          "name": "stdout"
        }
      ]
    },
    {
      "cell_type": "code",
      "metadata": {
        "id": "DvGSfdA88NPU",
        "outputId": "838aabc9-59cf-4df9-fc15-9e5bafef6e23",
        "colab": {
          "base_uri": "https://localhost:8080/"
        }
      },
      "source": [
        "import tensorflow as tf\n",
        "print(tf.__version__)\n",
        "mnist = tf.keras.datasets.mnist\n",
        "(training_images, training_labels), (test_images, test_labels) = mnist.load_data()\n",
        "training_images=training_images.reshape(60000, 28, 28, 1)\n",
        "training_images=training_images / 255.0\n",
        "test_images = test_images.reshape(10000, 28, 28, 1)\n",
        "test_images=test_images/255.0\n",
        "model = tf.keras.models.Sequential([\n",
        "  tf.keras.layers.Conv2D(32, (3,3), activation='relu', input_shape=(28, 28, 1)),\n",
        "  tf.keras.layers.MaxPooling2D(2, 2),\n",
        "  tf.keras.layers.Flatten(),\n",
        "  tf.keras.layers.Dense(128, activation='relu'),\n",
        "  tf.keras.layers.Dense(10, activation='softmax')\n",
        "])\n",
        "model.compile(optimizer='adam', loss='sparse_categorical_crossentropy', metrics=['accuracy'])\n",
        "model.fit(training_images, training_labels, epochs=10,verbose=False)\n",
        "test_loss, test_acc = model.evaluate(test_images, test_labels)\n",
        "print(test_acc)"
      ],
      "execution_count": 13,
      "outputs": [
        {
          "output_type": "stream",
          "text": [
            "2.4.1\n",
            "313/313 [==============================] - 1s 2ms/step - loss: 0.0554 - accuracy: 0.9865\n",
            "0.9865000247955322\n"
          ],
          "name": "stdout"
        }
      ]
    },
    {
      "cell_type": "markdown",
      "metadata": {
        "id": "cJF2eK6S8luI"
      },
      "source": [
        ""
      ]
    }
  ]
}